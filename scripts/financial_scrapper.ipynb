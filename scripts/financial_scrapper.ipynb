{
 "cells": [
  {
   "cell_type": "code",
   "execution_count": 70,
   "metadata": {},
   "outputs": [],
   "source": [
    "from selenium.webdriver.common.by import By\n",
    "from selenium.webdriver.chrome.options import Options\n",
    "from selenium import webdriver"
   ]
  },
  {
   "cell_type": "code",
   "execution_count": 7,
   "metadata": {},
   "outputs": [],
   "source": [
    "options = Options()\n",
    "options.add_argument(\"--headless\")  # Run selenium without opening an actual browser\n",
    "\n",
    "driver = webdriver.Chrome(options=options)  # Initialize the driver instance\n",
    "driver.get(\"https://www.macrotrends.net/stocks/charts/AAPL/apple/financial-statements\")"
   ]
  },
  {
   "cell_type": "code",
   "execution_count": 67,
   "metadata": {},
   "outputs": [
    {
     "name": "stdout",
     "output_type": "stream",
     "text": [
      "EBIT\n",
      "\n",
      "\n",
      "\n",
      "\n",
      "$114,301\n",
      "\n",
      "$119,437\n",
      "\n",
      "$108,949\n",
      "\n",
      "$66,288\n",
      "\n",
      "$63,930\n",
      "\n",
      "$70,898\n",
      "\n"
     ]
    }
   ],
   "source": [
    "# div_element = driver.find_elements(By.CSS_SELECTOR, 'div[style*=\"font-weight:bold; text-align:right; margin-top:5px; margin-right:4px;\"]:not(:empty)')\n",
    "row_element = driver.find_elements(By.CSS_SELECTOR,'div[role=\"row\"][id*=\"row\"]')\n",
    "ebit_row = row_element[17]\n",
    "child_elements = ebit_row.find_elements(By.CSS_SELECTOR,'div')\n",
    "len(child_elements)\n",
    "for child in child_elements:\n",
    "    print(child.accessible_name)"
   ]
  },
  {
   "cell_type": "code",
   "execution_count": 69,
   "metadata": {},
   "outputs": [
    {
     "name": "stdout",
     "output_type": "stream",
     "text": [
      "Annual Data | Millions of US $ except per share data\n",
      "\n",
      "2023-09-30\n",
      "2022-09-30\n",
      "2021-09-30\n",
      "2020-09-30\n",
      "2019-09-30\n",
      "2018-09-30\n"
     ]
    }
   ],
   "source": [
    "columns = driver.find_elements(By.CSS_SELECTOR, 'div[id*=\"columntable\"]')\n",
    "column_headers = columns[0].find_elements(By.CSS_SELECTOR,\"div[role=columnheader]\")\n",
    "for col in column_headers:\n",
    "    print(col.accessible_name)"
   ]
  },
  {
   "cell_type": "code",
   "execution_count": null,
   "metadata": {},
   "outputs": [],
   "source": []
  }
 ],
 "metadata": {
  "kernelspec": {
   "display_name": "venv",
   "language": "python",
   "name": "python3"
  },
  "language_info": {
   "codemirror_mode": {
    "name": "ipython",
    "version": 3
   },
   "file_extension": ".py",
   "mimetype": "text/x-python",
   "name": "python",
   "nbconvert_exporter": "python",
   "pygments_lexer": "ipython3",
   "version": "3.10.6"
  }
 },
 "nbformat": 4,
 "nbformat_minor": 2
}
