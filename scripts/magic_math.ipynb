{
 "cells": [
  {
   "cell_type": "code",
   "execution_count": 5,
   "metadata": {},
   "outputs": [],
   "source": [
    "import sys\n",
    "sys.path.insert(0, \"../\") # Add root/ to the path\n",
    "# from src.magicmath.magicmath import MagicMath\n",
    "from src.magicmath.data_generator import DataFrameGenerator"
   ]
  },
  {
   "cell_type": "code",
   "execution_count": 18,
   "metadata": {},
   "outputs": [
    {
     "name": "stdout",
     "output_type": "stream",
     "text": [
      "   Market Cap      EBIT  Cash&Cash Equivalent  Total current Assets  \\\n",
      "0    0.296894  0.897736              0.602937              0.739034   \n",
      "1    0.557888  0.983423              0.963939              0.220214   \n",
      "2    0.230679  0.161388              0.926559              0.037566   \n",
      "3    0.836528  0.154402              0.450196              0.025922   \n",
      "4    0.821825  0.699526              0.036720              0.442539   \n",
      "\n",
      "   Property, Plant & Equipment  Total Current Liabilities  Total debt  \\\n",
      "0                     0.161366                   0.273449    0.100001   \n",
      "1                     0.118544                   0.989233    0.872953   \n",
      "2                     0.758207                   0.197448    0.165198   \n",
      "3                     0.774922                   0.265992    0.385645   \n",
      "4                     0.602206                   0.377653    0.376237   \n",
      "\n",
      "   Depreciation  \n",
      "0      0.210316  \n",
      "1      0.166446  \n",
      "2      0.179934  \n",
      "3      0.169200  \n",
      "4      0.206679  \n"
     ]
    }
   ],
   "source": [
    "# Generate Mock Data\n",
    "data_generator = DataFrameGenerator()\n",
    "\n",
    "columns = [\"Market Cap\", \"EBIT\", \"Cash&Cash Equivalent\", \"Total Current Assets\", \"Property, Plant & Equipment\", \"Total Current Liabilities\", \"Total debt\", \"Depreciation\"]\n",
    "n_rows = 25\n",
    "data = data_generator.generate_dataframe(columns, n_rows)\n",
    "print(data.head())\n"
   ]
  },
  {
   "cell_type": "code",
   "execution_count": null,
   "metadata": {},
   "outputs": [],
   "source": [
    "#\"ROIC (return on invested capital) % = EBIT / (Net Working Capital + Net Fixed Assets)\n",
    "# EY (earnings yield) % = EBIT / Enterprise value\"\n",
    "# Calculate Net Working Capital , Net Fixed Assets , Enterprise Value\t\t\t\t\n",
    "\t\t\t\t\t\n",
    "\t\t\t\t\t\n"
   ]
  }
 ],
 "metadata": {
  "kernelspec": {
   "display_name": "venv",
   "language": "python",
   "name": "python3"
  },
  "language_info": {
   "codemirror_mode": {
    "name": "ipython",
    "version": 3
   },
   "file_extension": ".py",
   "mimetype": "text/x-python",
   "name": "python",
   "nbconvert_exporter": "python",
   "pygments_lexer": "ipython3",
   "version": "3.10.6"
  }
 },
 "nbformat": 4,
 "nbformat_minor": 2
}
